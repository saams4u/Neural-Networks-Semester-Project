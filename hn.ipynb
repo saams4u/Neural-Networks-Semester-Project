{
 "cells": [
  {
   "cell_type": "code",
   "execution_count": 1,
   "metadata": {},
   "outputs": [],
   "source": [
    "import numpy as np\n",
    "import matplotlib.pyplot as plt\n",
    "\n",
    "from copy import deepcopy\n",
    "from data import exemplars, load_noisy_data"
   ]
  },
  {
   "cell_type": "markdown",
   "metadata": {},
   "source": [
    "# Visualize Data"
   ]
  },
  {
   "attachments": {},
   "cell_type": "markdown",
   "metadata": {},
   "source": [
    "### Inspect exemplars"
   ]
  },
  {
   "cell_type": "code",
   "execution_count": 2,
   "metadata": {},
   "outputs": [
    {
     "data": {
      "image/png": "[encoded data removed]",
      "text/plain": [
       "<Figure size 864x864 with 8 Axes>"
      ]
     },
     "metadata": {
      "needs_background": "light"
     },
     "output_type": "display_data"
    }
   ],
   "source": [
    "plt.figure(1, figsize=(12,12))\n",
    "for i in range(len(exemplars)):\n",
    "    exemplar = exemplars[i].reshape(10, 10)\n",
    "    plt.subplot(4, 4, i+1)\n",
    "    plt.imshow(exemplar, cmap='gray')\n",
    "    plt.title(f'Exemplar for {i}')\n",
    "    plt.axis('off')"
   ]
  },
  {
   "attachments": {},
   "cell_type": "markdown",
   "metadata": {},
   "source": [
    "### Inspect noisy data"
   ]
  },
  {
   "cell_type": "code",
   "execution_count": 4,
   "metadata": {},
   "outputs": [
    {
     "data": {
      "image/png": "[encoded data removed]",
      "text/plain": [
       "<Figure size 1008x1008 with 8 Axes>"
      ]
     },
     "metadata": {
      "needs_background": "light"
     },
     "output_type": "display_data"
    }
   ],
   "source": [
    "noisy_data = load_noisy_data(threshold=0.95)\n",
    "\n",
    "plt.figure(1, figsize=(14,14))\n",
    "for i in range(len(noisy_data)):\n",
    "    noisy = noisy_data[i].reshape(10, 10)\n",
    "    plt.subplot(4, 4, i+1)\n",
    "    plt.title(f'Noisy Version for {i}')\n",
    "    plt.imshow(noisy, cmap='gray')\n",
    "    plt.axis('off')"
   ]
  },
  {
   "attachments": {},
   "cell_type": "markdown",
   "metadata": {},
   "source": [
    "# Create Hopfield Network"
   ]
  },
  {
   "cell_type": "code",
   "execution_count": 63,
   "metadata": {},
   "outputs": [],
   "source": [
    "class HopfieldNetwork:\n",
    "    def __init__(self, n=100):\n",
    "        self.n = n\n",
    "        self.W = np.zeros((n, n))\n",
    "\n",
    "    def train(self, exemplars):\n",
    "        for exemplar in exemplars:\n",
    "            W_delta = np.subtract(np.outer(exemplar, exemplar.T), np.identity(self.n))\n",
    "            self.W = np.add(self.W, W_delta)\n",
    "        \n",
    "    def hard_limiting(self, x):\n",
    "        return 1 if x >= 0 else -1\n",
    "\n",
    "    def asynchronous_update(self, input):        \n",
    "        new_input = deepcopy(input)\n",
    "        for i in range(self.n):\n",
    "            new_input[i] = self.hard_limiting(np.inner(self.W[i], new_input))\n",
    "        \n",
    "        return new_input\n",
    "\n",
    "    def recall(self, input, iters=10):\n",
    "        new_input = deepcopy(input)\n",
    "        for _ in range(iters):\n",
    "            new_input = self.asynchronous_update(new_input)\n",
    "                    \n",
    "        return new_input"
   ]
  },
  {
   "cell_type": "code",
   "execution_count": 64,
   "metadata": {},
   "outputs": [],
   "source": [
    "# Unit Testing\n",
    "lecture_exemplars = [\n",
    "    np.array([\n",
    "        [ 1, -1, -1],\n",
    "        [-1,  1, -1],\n",
    "        [-1, -1,  1]\n",
    "    ]).flatten(),\n",
    "    np.array([\n",
    "        [-1, -1, -1],\n",
    "        [ 1,  1,  1],\n",
    "        [-1, -1, -1]\n",
    "    ]).flatten(),\n",
    "    np.array([\n",
    "        [-1, -1,  1],\n",
    "        [-1, -1,  1],\n",
    "        [-1, -1,  1]\n",
    "    ]).flatten()\n",
    "]\n",
    "test_size = 9\n",
    "test_hn = HopfieldNetwork(test_size)\n",
    "\n",
    "test_hn.train([lecture_exemplars[0]])\n",
    "assert np.array_equal(test_hn.W, [\n",
    "    [ 0., -1., -1., -1.,  1., -1., -1., -1.,  1.],\n",
    "    [-1.,  0.,  1.,  1., -1.,  1.,  1.,  1., -1.],\n",
    "    [-1.,  1.,  0.,  1., -1.,  1.,  1.,  1., -1.],\n",
    "    [-1.,  1.,  1.,  0., -1.,  1.,  1.,  1., -1.],\n",
    "    [ 1., -1., -1., -1.,  0., -1., -1., -1.,  1.],\n",
    "    [-1.,  1.,  1.,  1., -1.,  0.,  1.,  1., -1.],\n",
    "    [-1.,  1.,  1.,  1., -1.,  1.,  0.,  1., -1.],\n",
    "    [-1.,  1.,  1.,  1., -1.,  1.,  1.,  0., -1.],\n",
    "    [ 1., -1., -1., -1.,  1., -1., -1., -1.,  0.]\n",
    "])\n",
    "\n",
    "test_hn.train([lecture_exemplars[1]])\n",
    "assert np.array_equal(test_hn.W, [\n",
    "    [ 0.,  0.,  0., -2.,  0., -2.,  0.,  0.,  2.],\n",
    "    [ 0.,  0.,  2.,  0., -2.,  0.,  2.,  2.,  0.],\n",
    "    [ 0.,  2.,  0.,  0., -2.,  0.,  2.,  2.,  0.],\n",
    "    [-2.,  0.,  0.,  0.,  0.,  2.,  0.,  0., -2.],\n",
    "    [ 0., -2., -2.,  0.,  0.,  0., -2., -2.,  0.],\n",
    "    [-2.,  0.,  0.,  2.,  0.,  0.,  0.,  0., -2.],\n",
    "    [ 0.,  2.,  2.,  0., -2.,  0.,  0.,  2.,  0.],\n",
    "    [ 0.,  2.,  2.,  0., -2.,  0.,  2.,  0.,  0.],\n",
    "    [ 2.,  0.,  0., -2.,  0., -2.,  0.,  0.,  0.]\n",
    "])\n",
    "\n",
    "test_hn.train([lecture_exemplars[2]])\n",
    "assert np.array_equal(test_hn.W, [\n",
    "    [ 0.,  1., -1., -1.,  1., -3.,  1.,  1.,  1.],\n",
    "    [ 1.,  0.,  1.,  1., -1., -1.,  3.,  3., -1.],\n",
    "    [-1.,  1.,  0., -1., -3.,  1.,  1.,  1.,  1.],\n",
    "    [-1.,  1., -1.,  0.,  1.,  1.,  1.,  1., -3.],\n",
    "    [ 1., -1., -3.,  1.,  0., -1., -1., -1., -1.],\n",
    "    [-3., -1.,  1.,  1., -1.,  0., -1., -1., -1.],\n",
    "    [ 1.,  3.,  1.,  1., -1., -1.,  0.,  3., -1.],\n",
    "    [ 1.,  3.,  1.,  1., -1., -1.,  3.,  0., -1.],\n",
    "    [ 1., -1.,  1., -3., -1., -1., -1., -1.,  0.]\n",
    "])"
   ]
  },
  {
   "cell_type": "code",
   "execution_count": 65,
   "metadata": {},
   "outputs": [
    {
     "data": {
      "text/plain": [
       "<matplotlib.image.AxesImage at 0x2091b7a30a0>"
      ]
     },
     "execution_count": 65,
     "metadata": {},
     "output_type": "execute_result"
    },
    {
     "data": {
      "image/png": "[encoded data removed]",
      "text/plain": [
       "<Figure size 432x288 with 2 Axes>"
      ]
     },
     "metadata": {
      "needs_background": "light"
     },
     "output_type": "display_data"
    }
   ],
   "source": [
    "test_hn = HopfieldNetwork(test_size)\n",
    "test_hn.train(lecture_exemplars)\n",
    "test_noisy = np.array([\n",
    "    [-1, -1, -1],\n",
    "    [-1, -1,  1],\n",
    "    [-1,  1,  1]\n",
    "]).flatten()\n",
    "\n",
    "plt.figure()\n",
    "plt.subplot(1, 2, 1)\n",
    "plt.imshow(test_noisy.reshape(3, 3))\n",
    "plt.subplot(1, 2, 2)\n",
    "plt.imshow(test_hn.recall(test_noisy, iters=2).reshape(3, 3))"
   ]
  },
  {
   "cell_type": "code",
   "execution_count": 66,
   "metadata": {},
   "outputs": [
    {
     "data": {
      "text/plain": [
       "<matplotlib.image.AxesImage at 0x2091b8408b0>"
      ]
     },
     "execution_count": 66,
     "metadata": {},
     "output_type": "execute_result"
    },
    {
     "data": {
      "image/png": "[encoded data removed]",
      "text/plain": [
       "<Figure size 432x288 with 2 Axes>"
      ]
     },
     "metadata": {
      "needs_background": "light"
     },
     "output_type": "display_data"
    }
   ],
   "source": [
    "hn = HopfieldNetwork(100)\n",
    "hn.train(exemplars[3:6])\n",
    "\n",
    "test_image = noisy_data[5]\n",
    "\n",
    "plt.figure()\n",
    "plt.subplot(1, 2, 1)\n",
    "plt.imshow(test_image.reshape(10, 10))\n",
    "plt.subplot(1, 2, 2)\n",
    "plt.imshow(hn.recall(test_image, iters=3).reshape(10, 10))"
   ]
  },
  {
   "cell_type": "code",
   "execution_count": null,
   "metadata": {},
   "outputs": [],
   "source": []
  }
 ],
 "metadata": {
  "kernelspec": {
   "display_name": "Python (en605645)",
   "language": "python",
   "name": "en605645"
  },
  "language_info": {
   "codemirror_mode": {
    "name": "ipython",
    "version": 3
   },
   "file_extension": ".py",
   "mimetype": "text/x-python",
   "name": "python",
   "nbconvert_exporter": "python",
   "pygments_lexer": "ipython3",
   "version": "3.9.7"
  },
  "orig_nbformat": 4
 },
 "nbformat": 4,
 "nbformat_minor": 2
}
