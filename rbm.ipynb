{
 "cells": [
  {
   "cell_type": "code",
   "execution_count": 5,
   "metadata": {},
   "outputs": [],
   "source": [
    "import numpy as np\n",
    "import matplotlib.pyplot as plt"
   ]
  },
  {
   "cell_type": "code",
   "execution_count": 191,
   "metadata": {},
   "outputs": [],
   "source": [
    "class RestrictedBoltzmannMachine:\n",
    "    def __init__(self, n_visible: int, n_hidden: int):\n",
    "        '''\n",
    "        Initialize 2 Layer Restricted Boltzmann Machine with a specified number of hidden nodes and visible nodes.\n",
    "\n",
    "        Arguments:\n",
    "          n_visible (int) - Number of nodes in the visible layer\n",
    "          n_hidden  (int) - Number of nodes in the hidden layer\n",
    "        '''\n",
    "        self.n_visible = n_visible\n",
    "        self.n_hidden  = n_hidden\n",
    "        self.W = np.random.rand(n_visible, n_hidden) # Set to this for testing purposes - np.array([[2, -1, 1], [-2, 0, -1]])\n",
    "        \n",
    "    def sigmoid(self, x):\n",
    "        '''\n",
    "        Activation function for output of nodes in either layer.\n",
    "        '''\n",
    "        return 1 / (1 + np.exp(-x))\n",
    "    \n",
    "    def reconstruct_hidden_layer(self, visible_input):\n",
    "        # Calculate hidden probabilities\n",
    "        activation = np.vectorize(self.sigmoid)\n",
    "        hidden_probas = activation(np.inner(visible_input, self.W.T))\n",
    "\n",
    "        # Sample hidden layer output from calculated probabilties\n",
    "        random_vars = np.random.random(size=self.n_hidden) # Set to this for testing purposes - np.array([0.87, 0.14, 0.64]) \n",
    "        return (random_vars < hidden_probas).astype(int)\n",
    "\n",
    "    def reconstruct_visible_layer(self, hidden_input):\n",
    "        # Calculate visible probabilities\n",
    "        activation = np.vectorize(self.sigmoid)\n",
    "        visible_probas = activation(np.inner(hidden_input, self.W))\n",
    "\n",
    "        # Sample visible layer output from calculated probabilties\n",
    "        random_vars = np.random.random(size=self.n_visible) # Set to this for testing purposes - np.array([0.25, 0.72])\n",
    "        return (random_vars < visible_probas).astype(int)\n",
    "    \n",
    "    def train(self, patterns, eta=0.01):\n",
    "        for v in patterns:\n",
    "            # Take training sample, and comput probabilties of hidden units and the\n",
    "            # sample a hidden activation vector from this probability distribution\n",
    "            h = self.reconstruct_hidden_layer(v)\n",
    "\n",
    "            # Compute the outer product of v and h and call this the positive gradient\n",
    "            pos_grad = np.outer(v, h)\n",
    "\n",
    "            # From h, sample a reconstruction v' of the visible units\n",
    "            v_prime = self.reconstruct_visible_layer(h)\n",
    "            \n",
    "            # Then resample activations h' from this\n",
    "            h_prime = self.reconstruct_hidden_layer(v_prime)\n",
    "\n",
    "            # Compute the outer product of v' and h' and call this the negative gradient\n",
    "            neg_grad = np.outer(v_prime, h_prime)\n",
    "\n",
    "            # The update to the weight matrix W, will be the positive gradient minus the negative gradient, times some learning rate\n",
    "            W_delta = eta*(pos_grad - neg_grad)\n",
    "\n",
    "            self.W = np.subtract(self.W, W_delta)\n",
    "            \n",
    "    def recall(self, pattern, iters=100):\n",
    "        v = pattern\n",
    "        for _ in range(iters):\n",
    "            h = self.reconstruct_hidden_layer(v)\n",
    "            v = self.reconstruct_visible_layer(h)\n",
    "        \n",
    "        return v"
   ]
  },
  {
   "cell_type": "code",
   "execution_count": 192,
   "metadata": {},
   "outputs": [],
   "source": [
    "rbm = RestrictedBoltzmannMachine(2, 3)\n",
    "rbm.train([[1,1]])"
   ]
  },
  {
   "cell_type": "code",
   "execution_count": 118,
   "metadata": {},
   "outputs": [],
   "source": [
    "t = np.array([\n",
    "        [-1, -1, -1, -1, -1, -1, -1, -1,  1,  1],\n",
    "        [-1, -1, -1, -1, -1, -1, -1,  1,  1,  1],\n",
    "        [-1, -1, -1, -1, -1, -1,  1,  1, -1,  1],\n",
    "        [-1, -1, -1, -1, -1,  1,  1,  1, -1,  1],\n",
    "        [ 1,  1,  1,  1,  1,  1,  1,  1,  1,  1],\n",
    "        [-1, -1, -1, -1, -1, -1, -1, -1,  1,  1],\n",
    "        [-1, -1, -1, -1, -1, -1, -1, -1,  1,  1],\n",
    "        [-1, -1, -1, -1, -1, -1, -1, -1,  1,  1],\n",
    "        [-1, -1, -1, -1, -1, -1, -1, -1, -1, -1],\n",
    "        [-1, -1, -1, -1, -1, -1, -1, -1, -1, -1]\n",
    "    ])"
   ]
  },
  {
   "cell_type": "code",
   "execution_count": null,
   "metadata": {},
   "outputs": [],
   "source": []
  }
 ],
 "metadata": {
  "kernelspec": {
   "display_name": "Python (en605645)",
   "language": "python",
   "name": "en605645"
  },
  "language_info": {
   "codemirror_mode": {
    "name": "ipython",
    "version": 3
   },
   "file_extension": ".py",
   "mimetype": "text/x-python",
   "name": "python",
   "nbconvert_exporter": "python",
   "pygments_lexer": "ipython3",
   "version": "3.9.7"
  },
  "orig_nbformat": 4
 },
 "nbformat": 4,
 "nbformat_minor": 2
}
