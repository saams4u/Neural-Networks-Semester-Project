{
 "cells": [
  {
   "cell_type": "code",
   "execution_count": 1,
   "metadata": {},
   "outputs": [],
   "source": [
    "import numpy as np\n",
    "import matplotlib.pyplot as plt\n",
    "\n",
    "from copy import deepcopy\n",
    "\n",
    "from data import exemplars, load_noisy_data\n",
    "\n",
    "%load_ext autoreload\n",
    "%autoreload 2"
   ]
  },
  {
   "attachments": {},
   "cell_type": "markdown",
   "metadata": {},
   "source": [
    "# Look at examples of images"
   ]
  },
  {
   "cell_type": "code",
   "execution_count": 78,
   "metadata": {},
   "outputs": [],
   "source": [
    "class RestrictedBoltzmannMachine:\n",
    "    def __init__(self, n_visible: int, n_hidden: int):\n",
    "        '''\n",
    "        Initialize 2 Layer Restricted Boltzmann Machine with a specified number of hidden nodes and visible nodes.\n",
    "\n",
    "        Arguments:\n",
    "          n_visible (int) - Number of nodes in the visible layer\n",
    "          n_hidden  (int) - Number of nodes in the hidden layer\n",
    "        '''\n",
    "        self.n_visible = n_visible\n",
    "        self.n_hidden  = n_hidden\n",
    "        self.W = np.random.normal(0.0, 0.1, (n_visible, n_hidden)) # Set to this for testing purposes - np.array([[2, -1, 1], [-2, 0, -1]])\n",
    "        self.a = np.random.normal(0.0, 0.1, n_visible)\n",
    "        self.b = np.zeros((n_hidden))\n",
    "\n",
    "        \n",
    "    def sigmoid(self, x):\n",
    "        '''\n",
    "        Activation function for output of nodes in either layer.\n",
    "        '''\n",
    "        return 1 / (1 + np.exp(-x))\n",
    "    \n",
    "    def sample_hidden_layer(self, v):\n",
    "        # Calculate hidden probabilities\n",
    "        activation = np.vectorize(self.sigmoid)\n",
    "        hidden_probas = activation(np.dot(v, self.W) + self.b)\n",
    "\n",
    "        # Sample hidden layer output from calculated probabilties\n",
    "        random_vars = np.random.uniform(size=self.n_hidden) # Set to this for testing purposes - np.array([0.87, 0.14, 0.64]) \n",
    "        return (hidden_probas > random_vars).astype(int)\n",
    "\n",
    "    def sample_visible_layer(self, h):\n",
    "        # Calculate visible probabilities\n",
    "        activation = np.vectorize(self.sigmoid)\n",
    "        visible_probas = activation(np.dot(h, self.W.T) + self.a)\n",
    "\n",
    "        # Sample visible layer output from calculated probabilties\n",
    "        random_vars = np.random.uniform(size=self.n_visible) # Set to this for testing purposes - np.array([0.25, 0.72])\n",
    "        return (visible_probas > random_vars).astype(int)\n",
    "\n",
    "    def train(self, patterns, eta=0.01, epochs=10):\n",
    "        '''\n",
    "        Train the Restricted Boltzmann Machine utilizing Hinton's Approximation Method.\n",
    "        '''\n",
    "        for _ in range(epochs):\n",
    "            for v in patterns:\n",
    "                # Take training sample, and compute probabilties of hidden units and the\n",
    "                # sample a hidden activation vector from this probability distribution\n",
    "                h = self.sample_hidden_layer(v)\n",
    "\n",
    "                # Compute the outer product of v and h and call this the positive gradient\n",
    "                pos_grad = np.outer(v, h)\n",
    "\n",
    "                # From h, sample a reconstruction v' of the visible units\n",
    "                v_prime = self.sample_visible_layer(h)\n",
    "\n",
    "                # Then resample activations h' from this\n",
    "                h_prime = self.sample_hidden_layer(v_prime)\n",
    "\n",
    "                # Compute the outer product of v' and h' and call this the negative gradient\n",
    "                neg_grad = np.outer(v_prime, h_prime)\n",
    "               \n",
    "                self.W += eta*(pos_grad - neg_grad) # Update to the weight matrix W, will be the positive gradient minus the negative gradient, times some learning rate\n",
    "                self.a += eta*(v - v_prime) # Update to the visible bias\n",
    "                self.b += eta*(h - h_prime) # Update to the hidden bias\n",
    "\n",
    "\n",
    "        \n",
    "    def reconstruct(self, pattern, iters=10):\n",
    "        v = pattern.copy()\n",
    "        for _ in range(iters):\n",
    "            h = self.sample_hidden_layer(v)\n",
    "            v = self.sample_visible_layer(h)\n",
    "        \n",
    "        return v"
   ]
  },
  {
   "cell_type": "code",
   "execution_count": 79,
   "metadata": {},
   "outputs": [
    {
     "data": {
      "image/png": "[encoded data removed]",
      "text/plain": [
       "<Figure size 864x864 with 8 Axes>"
      ]
     },
     "metadata": {
      "needs_background": "light"
     },
     "output_type": "display_data"
    }
   ],
   "source": [
    "plt.figure(1, figsize=(12,12))\n",
    "\n",
    "for i in range(len(exemplars)):\n",
    "    exemplar = exemplars[i].reshape(10, 12)\n",
    "    plt.subplot(4, 4, i+1)\n",
    "    plt.imshow(exemplar, cmap='gray')\n",
    "    plt.title(f'Exemplar for {i}')\n",
    "    plt.axis('off')"
   ]
  },
  {
   "cell_type": "code",
   "execution_count": 86,
   "metadata": {},
   "outputs": [
    {
     "data": {
      "image/png": "[encoded data removed]",
      "text/plain": [
       "<Figure size 1008x1008 with 8 Axes>"
      ]
     },
     "metadata": {
      "needs_background": "light"
     },
     "output_type": "display_data"
    }
   ],
   "source": [
    "noisy_data = load_noisy_data(threshold=0.60)\n",
    "\n",
    "plt.figure(1, figsize=(14,14))\n",
    "for i in range(len(noisy_data)):\n",
    "    noisy = noisy_data[i].reshape(10, 12)\n",
    "    plt.subplot(4, 4, i+1)\n",
    "    plt.title(f'Noisy Version for {i}')\n",
    "    plt.imshow(noisy, cmap='gray')\n",
    "    plt.axis('off')"
   ]
  },
  {
   "cell_type": "code",
   "execution_count": 87,
   "metadata": {},
   "outputs": [],
   "source": [
    "rbm = RestrictedBoltzmannMachine(120, 500)\n",
    "rbm.train(exemplars, epochs=100)"
   ]
  },
  {
   "cell_type": "code",
   "execution_count": 88,
   "metadata": {},
   "outputs": [
    {
     "data": {
      "image/png": "[encoded data removed]",
      "text/plain": [
       "<Figure size 720x720 with 16 Axes>"
      ]
     },
     "metadata": {
      "needs_background": "light"
     },
     "output_type": "display_data"
    }
   ],
   "source": [
    "fig, axs = plt.subplots(8, 2, figsize=(10, 10))\n",
    "for i in range(8):\n",
    "    axs[i, 0].imshow(noisy_data[i].reshape(10, 12))\n",
    "    axs[i, 0].axis('off')\n",
    "    axs[i, 1].imshow(rbm.reconstruct(noisy_data[i], iters=10).reshape(10, 12))\n",
    "    axs[i, 1].axis('off');\n"
   ]
  },
  {
   "cell_type": "code",
   "execution_count": null,
   "metadata": {},
   "outputs": [],
   "source": []
  }
 ],
 "metadata": {
  "kernelspec": {
   "display_name": "Python (en605645)",
   "language": "python",
   "name": "en605645"
  },
  "language_info": {
   "codemirror_mode": {
    "name": "ipython",
    "version": 3
   },
   "file_extension": ".py",
   "mimetype": "text/x-python",
   "name": "python",
   "nbconvert_exporter": "python",
   "pygments_lexer": "ipython3",
   "version": "3.9.7"
  },
  "orig_nbformat": 4
 },
 "nbformat": 4,
 "nbformat_minor": 2
}
