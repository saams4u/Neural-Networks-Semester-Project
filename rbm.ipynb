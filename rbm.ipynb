{
 "cells": [
  {
   "cell_type": "code",
   "execution_count": 5,
   "metadata": {},
   "outputs": [],
   "source": [
    "import numpy as np\n",
    "import matplotlib.pyplot as plt"
   ]
  },
  {
   "cell_type": "code",
   "execution_count": 167,
   "metadata": {},
   "outputs": [],
   "source": [
    "class RestrictedBoltzmannMachine:\n",
    "    def __init__(self, n_visible, n_hidden):\n",
    "        self.n_visible = n_visible\n",
    "        self.n_hidden = n_hidden\n",
    "        self.W = np.random.rand(n_visible, n_hidden)\n",
    "\n",
    "    def sigmoid(self, x):\n",
    "        return 1 / (1 + np.exp(-x))\n",
    "    \n",
    "    def reconstruct_hidden_layer(self, visible_input):\n",
    "        # Calculate hidden probabilities\n",
    "        activation = np.vectorize(self.sigmoid)\n",
    "        hidden_probas = activation(np.inner(visible_input, self.W.T))\n",
    "\n",
    "        # Sample hidden layer output from calculated probabilties\n",
    "        return (np.random.random(size=self.n_hidden) < hidden_probas).astype(int)\n",
    "\n",
    "    def reconstruct_visible_layer(self, hidden_input):\n",
    "        # Calculate visible probabilities\n",
    "        activation = np.vectorize(self.sigmoid)\n",
    "        visible_probas = activation(np.inner(hidden_input, self.W))\n",
    "\n",
    "        # Sample visible layer output from calculated probabilties\n",
    "        return (np.random.random(size=self.n_visible) < visible_probas).astype(int)\n",
    "    \n",
    "    def train(self, patterns, eta=0.01):\n",
    "        for v in patterns:\n",
    "            # Take training sample, and comput probabilties of hidden units and the\n",
    "            # sample a hidden activation vector from this probability distribution\n",
    "            h = self.reconstruct_hidden_layer(v)\n",
    "\n",
    "            # Compute the outer product of v and h and call this the positive gradient\n",
    "            pos_grad = np.outer(v, h)\n",
    "\n",
    "            # From h, sample a reconstruction v' of the visible units\n",
    "            v_prime = self.reconstruct_visible_layer(h)\n",
    "\n",
    "            # Then resample activations h' from this\n",
    "            h_prime = self.reconstruct_hidden_layer(v_prime)\n",
    "\n",
    "            # Compute the outer product of v' and h' and call this the negative gradient\n",
    "            neg_grad = np.outer(v_prime, h_prime)\n",
    "            print(pos_grad)\n",
    "            print(neg_grad)\n",
    "            print('='*100)\n",
    "\n",
    "            # The update to the weight matrix W, will be the positive gradient minus the negative gradient, times some learning rate\n",
    "            W_delta = eta*(pos_grad.T - neg_grad.T)\n",
    "            print(W_delta)\n",
    "\n",
    "    def recall(self, pattern, n_gibbs):\n",
    "        pass"
   ]
  },
  {
   "cell_type": "code",
   "execution_count": 168,
   "metadata": {},
   "outputs": [
    {
     "name": "stdout",
     "output_type": "stream",
     "text": [
      "hidden_probas = [0.6390831  0.83490359 0.80403029]\n",
      "visible_probas = [0.78120513 0.85317965]\n",
      "hidden_probas = [0.6390831  0.83490359 0.80403029]\n",
      "[[0 1 1]\n",
      " [0 1 1]]\n",
      "[[1 1 1]\n",
      " [1 1 1]]\n",
      "====================================================================================================\n",
      "[[-0.01 -0.01]\n",
      " [ 0.    0.  ]\n",
      " [ 0.    0.  ]]\n"
     ]
    }
   ],
   "source": [
    "rbm = RestrictedBoltzmannMachine(2, 3)\n",
    "rbm.train([[1,1]])"
   ]
  },
  {
   "cell_type": "code",
   "execution_count": 118,
   "metadata": {},
   "outputs": [],
   "source": [
    "t = np.array([\n",
    "        [-1, -1, -1, -1, -1, -1, -1, -1,  1,  1],\n",
    "        [-1, -1, -1, -1, -1, -1, -1,  1,  1,  1],\n",
    "        [-1, -1, -1, -1, -1, -1,  1,  1, -1,  1],\n",
    "        [-1, -1, -1, -1, -1,  1,  1,  1, -1,  1],\n",
    "        [ 1,  1,  1,  1,  1,  1,  1,  1,  1,  1],\n",
    "        [-1, -1, -1, -1, -1, -1, -1, -1,  1,  1],\n",
    "        [-1, -1, -1, -1, -1, -1, -1, -1,  1,  1],\n",
    "        [-1, -1, -1, -1, -1, -1, -1, -1,  1,  1],\n",
    "        [-1, -1, -1, -1, -1, -1, -1, -1, -1, -1],\n",
    "        [-1, -1, -1, -1, -1, -1, -1, -1, -1, -1]\n",
    "    ])"
   ]
  },
  {
   "cell_type": "code",
   "execution_count": null,
   "metadata": {},
   "outputs": [],
   "source": []
  }
 ],
 "metadata": {
  "kernelspec": {
   "display_name": "Python (en605645)",
   "language": "python",
   "name": "en605645"
  },
  "language_info": {
   "codemirror_mode": {
    "name": "ipython",
    "version": 3
   },
   "file_extension": ".py",
   "mimetype": "text/x-python",
   "name": "python",
   "nbconvert_exporter": "python",
   "pygments_lexer": "ipython3",
   "version": "3.9.7"
  },
  "orig_nbformat": 4
 },
 "nbformat": 4,
 "nbformat_minor": 2
}
