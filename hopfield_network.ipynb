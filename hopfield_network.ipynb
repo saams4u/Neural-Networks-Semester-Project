{
 "cells": [
  {
   "cell_type": "code",
   "execution_count": 141,
   "metadata": {},
   "outputs": [
    {
     "name": "stdout",
     "output_type": "stream",
     "text": [
      "The autoreload extension is already loaded. To reload it, use:\n",
      "  %reload_ext autoreload\n"
     ]
    }
   ],
   "source": [
    "import numpy as np\n",
    "import matplotlib.pyplot as plt\n",
    "\n",
    "from copy import deepcopy\n",
    "from data import exemplars_v2, load_noisy_data\n",
    "\n",
    "%load_ext autoreload\n",
    "%autoreload 2"
   ]
  },
  {
   "cell_type": "code",
   "execution_count": 142,
   "metadata": {},
   "outputs": [],
   "source": [
    "exemplars = exemplars_v2"
   ]
  },
  {
   "attachments": {},
   "cell_type": "markdown",
   "metadata": {},
   "source": [
    "# Visualize Data"
   ]
  },
  {
   "attachments": {},
   "cell_type": "markdown",
   "metadata": {},
   "source": [
    "### Load exemplars and visualize"
   ]
  },
  {
   "cell_type": "code",
   "execution_count": 143,
   "metadata": {},
   "outputs": [
    {
     "data": {
      "image/png": "[encoded data removed]",
      "text/plain": [
       "<Figure size 864x864 with 8 Axes>"
      ]
     },
     "metadata": {
      "needs_background": "light"
     },
     "output_type": "display_data"
    }
   ],
   "source": [
    "plt.figure(1, figsize=(12,12))\n",
    "for i in range(len(exemplars)):\n",
    "    exemplar = exemplars[i].reshape(10, 10)\n",
    "    plt.subplot(4, 4, i+1)\n",
    "    plt.imshow(exemplar, cmap='gray')\n",
    "    plt.title(f'Exemplar for {i}')\n",
    "    plt.axis('off')"
   ]
  },
  {
   "attachments": {},
   "cell_type": "markdown",
   "metadata": {},
   "source": [
    "### Load noisy data and visualize"
   ]
  },
  {
   "cell_type": "code",
   "execution_count": 155,
   "metadata": {},
   "outputs": [
    {
     "data": {
      "image/png": "[encoded data removed]",
      "text/plain": [
       "<Figure size 1008x1008 with 8 Axes>"
      ]
     },
     "metadata": {
      "needs_background": "light"
     },
     "output_type": "display_data"
    }
   ],
   "source": [
    "noisy_data = load_noisy_data(threshold=0.99)\n",
    "\n",
    "plt.figure(1, figsize=(14,14))\n",
    "for i in range(len(noisy_data)):\n",
    "    noisy = noisy_data[i].reshape(10, 10)\n",
    "    plt.subplot(4, 4, i+1)\n",
    "    plt.title(f'Noisy Version for {i}')\n",
    "    plt.imshow(noisy, cmap='gray')\n",
    "    plt.axis('off')"
   ]
  },
  {
   "attachments": {},
   "cell_type": "markdown",
   "metadata": {},
   "source": [
    "# Create Hopfield Network"
   ]
  },
  {
   "cell_type": "code",
   "execution_count": 211,
   "metadata": {},
   "outputs": [],
   "source": [
    "class HopfieldNetwork:\n",
    "    def __init__(self):\n",
    "        pass\n",
    "\n",
    "    def train(self, exemplars):\n",
    "        n = len(exemplars[0])\n",
    "        W = np.zeros((n,n))\n",
    "\n",
    "        for exemplar in exemplars:\n",
    "            W_delta_tilda = np.outer(exemplar, exemplar.T)\n",
    "            W_delta = np.subtract(W_delta_tilda, np.identity(n))\n",
    "            W_new = np.add(W, W_delta)\n",
    "            W = deepcopy(W_new)\n",
    "        \n",
    "        self.W = W\n",
    "    \n",
    "    def hard_limiting(self, x):\n",
    "        if x >= 0: \n",
    "            return 1\n",
    "        else: \n",
    "            return -1\n",
    "\n",
    "    def asynchronous_update(self, input):\n",
    "        n, _ = self.W.shape \n",
    "        \n",
    "        new_input = deepcopy(input)\n",
    "        for i in range(n):\n",
    "            new_input[i] = self.hard_limiting(np.dot(self.W[i], new_input))\n",
    "        \n",
    "        return new_input\n",
    "\n",
    "    def recall(self, input, iters=10):\n",
    "        new_input = deepcopy(input)\n",
    "        for _ in range(iters):\n",
    "            new_input = self.asynchronous_update(new_input)\n",
    "                    \n",
    "        return new_input"
   ]
  },
  {
   "cell_type": "code",
   "execution_count": 212,
   "metadata": {},
   "outputs": [],
   "source": [
    "# Unit Test train\n",
    "lecture_exemplars = [\n",
    "    np.array([\n",
    "        [ 1, -1, -1],\n",
    "        [-1,  1, -1],\n",
    "        [-1, -1,  1]\n",
    "    ]).flatten(),\n",
    "    np.array([\n",
    "        [-1, -1, -1],\n",
    "        [ 1,  1,  1],\n",
    "        [-1, -1, -1]\n",
    "    ]).flatten(),\n",
    "    np.array([\n",
    "        [-1, -1,  1],\n",
    "        [-1, -1,  1],\n",
    "        [-1, -1,  1]\n",
    "    ]).flatten()\n",
    "]\n",
    "\n",
    "test_hn = HopfieldNetwork()\n",
    "\n",
    "test_hn.train([lecture_exemplars[0]])\n",
    "assert np.array_equal(test_hn.W, [\n",
    "    [ 0., -1., -1., -1.,  1., -1., -1., -1.,  1.],\n",
    "    [-1.,  0.,  1.,  1., -1.,  1.,  1.,  1., -1.],\n",
    "    [-1.,  1.,  0.,  1., -1.,  1.,  1.,  1., -1.],\n",
    "    [-1.,  1.,  1.,  0., -1.,  1.,  1.,  1., -1.],\n",
    "    [ 1., -1., -1., -1.,  0., -1., -1., -1.,  1.],\n",
    "    [-1.,  1.,  1.,  1., -1.,  0.,  1.,  1., -1.],\n",
    "    [-1.,  1.,  1.,  1., -1.,  1.,  0.,  1., -1.],\n",
    "    [-1.,  1.,  1.,  1., -1.,  1.,  1.,  0., -1.],\n",
    "    [ 1., -1., -1., -1.,  1., -1., -1., -1.,  0.]\n",
    "])\n",
    "\n",
    "test_hn.train(lecture_exemplars[:2])\n",
    "assert np.array_equal(test_hn.W, [\n",
    "    [ 0.,  0.,  0., -2.,  0., -2.,  0.,  0.,  2.],\n",
    "    [ 0.,  0.,  2.,  0., -2.,  0.,  2.,  2.,  0.],\n",
    "    [ 0.,  2.,  0.,  0., -2.,  0.,  2.,  2.,  0.],\n",
    "    [-2.,  0.,  0.,  0.,  0.,  2.,  0.,  0., -2.],\n",
    "    [ 0., -2., -2.,  0.,  0.,  0., -2., -2.,  0.],\n",
    "    [-2.,  0.,  0.,  2.,  0.,  0.,  0.,  0., -2.],\n",
    "    [ 0.,  2.,  2.,  0., -2.,  0.,  0.,  2.,  0.],\n",
    "    [ 0.,  2.,  2.,  0., -2.,  0.,  2.,  0.,  0.],\n",
    "    [ 2.,  0.,  0., -2.,  0., -2.,  0.,  0.,  0.]\n",
    "])\n",
    "\n",
    "test_hn.train(lecture_exemplars)\n",
    "assert np.array_equal(test_hn.W, [\n",
    "    [ 0.,  1., -1., -1.,  1., -3.,  1.,  1.,  1.],\n",
    "    [ 1.,  0.,  1.,  1., -1., -1.,  3.,  3., -1.],\n",
    "    [-1.,  1.,  0., -1., -3.,  1.,  1.,  1.,  1.],\n",
    "    [-1.,  1., -1.,  0.,  1.,  1.,  1.,  1., -3.],\n",
    "    [ 1., -1., -3.,  1.,  0., -1., -1., -1., -1.],\n",
    "    [-3., -1.,  1.,  1., -1.,  0., -1., -1., -1.],\n",
    "    [ 1.,  3.,  1.,  1., -1., -1.,  0.,  3., -1.],\n",
    "    [ 1.,  3.,  1.,  1., -1., -1.,  3.,  0., -1.],\n",
    "    [ 1., -1.,  1., -3., -1., -1., -1., -1.,  0.]\n",
    "])"
   ]
  },
  {
   "cell_type": "code",
   "execution_count": 215,
   "metadata": {},
   "outputs": [
    {
     "data": {
      "text/plain": [
       "<matplotlib.image.AxesImage at 0x18a305dc400>"
      ]
     },
     "execution_count": 215,
     "metadata": {},
     "output_type": "execute_result"
    },
    {
     "data": {
      "image/png": "[encoded data removed]",
      "text/plain": [
       "<Figure size 432x288 with 1 Axes>"
      ]
     },
     "metadata": {
      "needs_background": "light"
     },
     "output_type": "display_data"
    }
   ],
   "source": [
    "test_hn = HopfieldNetwork()\n",
    "test_hn.train(lecture_exemplars)\n",
    "test_noisy = np.array([\n",
    "    [1, -1,  -1],\n",
    "    [1, -1,  -1],\n",
    "    [-1, -1,  1]\n",
    "]).flatten()\n",
    "\n",
    "\n",
    "plt.imshow(test_hn.recall(test_noisy, iters=1).reshape(3, 3))"
   ]
  },
  {
   "cell_type": "code",
   "execution_count": 216,
   "metadata": {},
   "outputs": [
    {
     "data": {
      "text/plain": [
       "<matplotlib.image.AxesImage at 0x18a2d89e7f0>"
      ]
     },
     "execution_count": 216,
     "metadata": {},
     "output_type": "execute_result"
    },
    {
     "data": {
      "image/png": "[encoded data removed]",
      "text/plain": [
       "<Figure size 432x288 with 1 Axes>"
      ]
     },
     "metadata": {
      "needs_background": "light"
     },
     "output_type": "display_data"
    }
   ],
   "source": [
    "plt.imshow(noisy_data[0].reshape(10, 10))"
   ]
  },
  {
   "cell_type": "code",
   "execution_count": 217,
   "metadata": {},
   "outputs": [
    {
     "data": {
      "text/plain": [
       "3"
      ]
     },
     "execution_count": 217,
     "metadata": {},
     "output_type": "execute_result"
    }
   ],
   "source": [
    "len(exemplars[0:3])"
   ]
  },
  {
   "cell_type": "code",
   "execution_count": 221,
   "metadata": {},
   "outputs": [
    {
     "data": {
      "text/plain": [
       "<matplotlib.image.AxesImage at 0x18a3082d6a0>"
      ]
     },
     "execution_count": 221,
     "metadata": {},
     "output_type": "execute_result"
    },
    {
     "data": {
      "image/png": "[encoded data removed]",
      "text/plain": [
       "<Figure size 432x288 with 1 Axes>"
      ]
     },
     "metadata": {
      "needs_background": "light"
     },
     "output_type": "display_data"
    }
   ],
   "source": [
    "hn = HopfieldNetwork()\n",
    "hn.train(exemplars)\n",
    "plt.imshow(hn.recall(noisy_data[0], iters=3).reshape(10, 10))"
   ]
  },
  {
   "cell_type": "code",
   "execution_count": 41,
   "metadata": {},
   "outputs": [
    {
     "name": "stdout",
     "output_type": "stream",
     "text": [
      "Updated value = -1\n",
      "Updated value = -1\n",
      "Updated value = -1\n",
      "Updated value = -1\n",
      "Updated value = -1\n",
      "Updated value = -1\n",
      "Updated value = -1\n",
      "Updated value = -1\n",
      "Updated value = -1\n",
      "Updated value = -1\n",
      "Updated value = -1\n",
      "Updated value = 1\n",
      "Previous value = -1 | Updated value = 1\n",
      "Updated value = 1\n",
      "Updated value = 1\n",
      "Updated value = 1\n",
      "Updated value = 1\n",
      "Updated value = 1\n",
      "Updated value = 1\n",
      "Updated value = 1\n",
      "Previous value = -1 | Updated value = 1\n",
      "Updated value = -1\n",
      "Updated value = -1\n",
      "Updated value = 1\n",
      "Updated value = -1\n",
      "Updated value = -1\n",
      "Updated value = -1\n",
      "Updated value = -1\n",
      "Updated value = -1\n",
      "Updated value = -1\n",
      "Updated value = 1\n",
      "Updated value = -1\n",
      "Updated value = -1\n",
      "Updated value = 1\n",
      "Updated value = -1\n",
      "Updated value = -1\n",
      "Updated value = -1\n",
      "Updated value = -1\n",
      "Updated value = -1\n",
      "Updated value = -1\n",
      "Updated value = 1\n",
      "Updated value = -1\n",
      "Updated value = -1\n",
      "Updated value = 1\n",
      "Updated value = -1\n",
      "Updated value = -1\n",
      "Updated value = -1\n",
      "Updated value = -1\n",
      "Updated value = -1\n",
      "Updated value = -1\n",
      "Updated value = 1\n",
      "Updated value = -1\n",
      "Updated value = -1\n",
      "Updated value = 1\n",
      "Updated value = 1\n",
      "Previous value = -1 | Updated value = 1\n",
      "Updated value = 1\n",
      "Previous value = -1 | Updated value = 1\n",
      "Updated value = 1\n",
      "Previous value = -1 | Updated value = 1\n",
      "Updated value = 1\n",
      "Previous value = -1 | Updated value = 1\n",
      "Updated value = 1\n",
      "Previous value = -1 | Updated value = 1\n",
      "Updated value = 1\n",
      "Previous value = -1 | Updated value = 1\n",
      "Updated value = 1\n",
      "Updated value = -1\n",
      "Updated value = -1\n",
      "Updated value = -1\n",
      "Previous value = 1 | Updated value = -1\n",
      "Updated value = -1\n",
      "Updated value = -1\n",
      "Updated value = -1\n",
      "Updated value = -1\n",
      "Previous value = 1 | Updated value = -1\n",
      "Updated value = -1\n",
      "Updated value = -1\n",
      "Updated value = 1\n",
      "Updated value = -1\n",
      "Updated value = -1\n",
      "Updated value = -1\n",
      "Previous value = 1 | Updated value = -1\n",
      "Updated value = -1\n",
      "Updated value = -1\n",
      "Updated value = -1\n",
      "Updated value = -1\n",
      "Updated value = -1\n",
      "Updated value = -1\n",
      "Updated value = 1\n",
      "Updated value = -1\n",
      "Updated value = -1\n",
      "Updated value = -1\n",
      "Previous value = 1 | Updated value = -1\n",
      "Updated value = -1\n",
      "Updated value = -1\n",
      "Updated value = -1\n",
      "Updated value = -1\n",
      "Updated value = -1\n",
      "Updated value = -1\n",
      "Updated value = 1\n",
      "Updated value = -1\n",
      "Updated value = -1\n",
      "Updated value = 1\n",
      "Previous value = -1 | Updated value = 1\n",
      "Updated value = 1\n",
      "Updated value = 1\n",
      "Updated value = 1\n",
      "Updated value = 1\n",
      "Updated value = 1\n",
      "Updated value = 1\n",
      "Previous value = -1 | Updated value = 1\n",
      "Updated value = 1\n",
      "Previous value = -1 | Updated value = 1\n",
      "Updated value = -1\n",
      "Updated value = -1\n",
      "Updated value = -1\n",
      "Updated value = -1\n",
      "Updated value = -1\n",
      "Updated value = -1\n",
      "Updated value = -1\n",
      "Updated value = -1\n",
      "Updated value = -1\n",
      "Updated value = -1\n",
      "Updated value = -1\n",
      "Updated value = -1\n",
      "Updated value = 1\n",
      "Updated value = 1\n",
      "Updated value = 1\n",
      "Updated value = 1\n",
      "Updated value = 1\n",
      "Updated value = 1\n",
      "Updated value = 1\n",
      "Updated value = 1\n",
      "Updated value = -1\n",
      "Updated value = -1\n",
      "Updated value = 1\n",
      "Updated value = -1\n",
      "Updated value = -1\n",
      "Updated value = -1\n",
      "Updated value = -1\n",
      "Updated value = -1\n",
      "Updated value = -1\n",
      "Updated value = 1\n",
      "Updated value = -1\n",
      "Updated value = -1\n",
      "Updated value = 1\n",
      "Updated value = -1\n",
      "Updated value = -1\n",
      "Updated value = -1\n",
      "Updated value = -1\n",
      "Updated value = -1\n",
      "Updated value = -1\n",
      "Updated value = 1\n",
      "Updated value = -1\n",
      "Updated value = -1\n",
      "Updated value = 1\n",
      "Updated value = -1\n",
      "Updated value = -1\n",
      "Updated value = -1\n",
      "Updated value = -1\n",
      "Updated value = -1\n",
      "Updated value = -1\n",
      "Updated value = 1\n",
      "Updated value = -1\n",
      "Updated value = -1\n",
      "Updated value = 1\n",
      "Updated value = 1\n",
      "Updated value = 1\n",
      "Updated value = 1\n",
      "Updated value = 1\n",
      "Updated value = 1\n",
      "Updated value = 1\n",
      "Updated value = 1\n",
      "Updated value = -1\n",
      "Updated value = -1\n",
      "Updated value = -1\n",
      "Updated value = -1\n",
      "Updated value = -1\n",
      "Updated value = -1\n",
      "Updated value = -1\n",
      "Updated value = -1\n",
      "Updated value = -1\n",
      "Updated value = 1\n",
      "Updated value = -1\n",
      "Updated value = -1\n",
      "Updated value = -1\n",
      "Updated value = -1\n",
      "Updated value = -1\n",
      "Updated value = -1\n",
      "Updated value = -1\n",
      "Updated value = -1\n",
      "Updated value = -1\n",
      "Updated value = 1\n",
      "Updated value = -1\n",
      "Updated value = -1\n",
      "Updated value = -1\n",
      "Updated value = -1\n",
      "Updated value = -1\n",
      "Updated value = -1\n",
      "Updated value = -1\n",
      "Updated value = -1\n",
      "Updated value = -1\n",
      "Updated value = 1\n",
      "Updated value = -1\n",
      "Updated value = -1\n",
      "Updated value = 1\n",
      "Updated value = 1\n",
      "Updated value = 1\n",
      "Updated value = 1\n",
      "Updated value = 1\n",
      "Updated value = 1\n",
      "Updated value = 1\n",
      "Updated value = 1\n",
      "Updated value = -1\n",
      "Updated value = -1\n",
      "Updated value = -1\n",
      "Updated value = -1\n",
      "Updated value = -1\n",
      "Updated value = -1\n",
      "Updated value = -1\n",
      "Updated value = -1\n",
      "Updated value = -1\n",
      "Updated value = -1\n",
      "Updated value = -1\n",
      "Updated value = -1\n",
      "Updated value = 1\n",
      "Updated value = 1\n",
      "Updated value = 1\n",
      "Updated value = 1\n",
      "Updated value = 1\n",
      "Updated value = 1\n",
      "Updated value = 1\n",
      "Updated value = 1\n",
      "Updated value = -1\n",
      "Updated value = -1\n",
      "Updated value = 1\n",
      "Updated value = -1\n",
      "Updated value = -1\n",
      "Updated value = -1\n",
      "Updated value = -1\n",
      "Updated value = -1\n",
      "Updated value = -1\n",
      "Updated value = 1\n",
      "Updated value = -1\n",
      "Updated value = -1\n",
      "Updated value = 1\n",
      "Updated value = -1\n",
      "Updated value = -1\n",
      "Updated value = -1\n",
      "Updated value = -1\n",
      "Updated value = -1\n",
      "Updated value = -1\n",
      "Updated value = 1\n",
      "Updated value = -1\n",
      "Updated value = -1\n",
      "Updated value = 1\n",
      "Updated value = -1\n",
      "Updated value = -1\n",
      "Updated value = -1\n",
      "Updated value = -1\n",
      "Updated value = -1\n",
      "Updated value = -1\n",
      "Updated value = 1\n",
      "Updated value = -1\n",
      "Updated value = -1\n",
      "Updated value = 1\n",
      "Updated value = 1\n",
      "Updated value = 1\n",
      "Updated value = 1\n",
      "Updated value = 1\n",
      "Updated value = 1\n",
      "Updated value = 1\n",
      "Updated value = 1\n",
      "Updated value = -1\n",
      "Updated value = -1\n",
      "Updated value = -1\n",
      "Updated value = -1\n",
      "Updated value = -1\n",
      "Updated value = -1\n",
      "Updated value = -1\n",
      "Updated value = -1\n",
      "Updated value = -1\n",
      "Updated value = 1\n",
      "Updated value = -1\n",
      "Updated value = -1\n",
      "Updated value = -1\n",
      "Updated value = -1\n",
      "Updated value = -1\n",
      "Updated value = -1\n",
      "Updated value = -1\n",
      "Updated value = -1\n",
      "Updated value = -1\n",
      "Updated value = 1\n",
      "Updated value = -1\n",
      "Updated value = -1\n",
      "Updated value = -1\n",
      "Updated value = -1\n",
      "Updated value = -1\n",
      "Updated value = -1\n",
      "Updated value = -1\n",
      "Updated value = -1\n",
      "Updated value = -1\n",
      "Updated value = 1\n",
      "Updated value = -1\n",
      "Updated value = -1\n",
      "Updated value = 1\n",
      "Updated value = 1\n",
      "Updated value = 1\n",
      "Updated value = 1\n",
      "Updated value = 1\n",
      "Updated value = 1\n",
      "Updated value = 1\n",
      "Updated value = 1\n",
      "Updated value = -1\n"
     ]
    },
    {
     "data": {
      "text/plain": [
       "array([-1, -1, -1, -1, -1, -1, -1, -1, -1, -1, -1,  1,  1,  1,  1,  1,  1,\n",
       "        1,  1, -1, -1,  1, -1, -1, -1, -1, -1, -1,  1, -1, -1,  1, -1, -1,\n",
       "       -1, -1, -1, -1,  1, -1, -1,  1, -1, -1, -1, -1, -1, -1,  1, -1, -1,\n",
       "        1,  1,  1,  1,  1,  1,  1,  1, -1, -1, -1, -1, -1, -1, -1, -1, -1,\n",
       "        1, -1, -1, -1, -1, -1, -1, -1, -1, -1,  1, -1, -1, -1, -1, -1, -1,\n",
       "       -1, -1, -1,  1, -1, -1,  1,  1,  1,  1,  1,  1,  1,  1, -1])"
      ]
     },
     "execution_count": 41,
     "metadata": {},
     "output_type": "execute_result"
    }
   ],
   "source": [
    "hn.forward_pass(noisy_data[0], iters=3)"
   ]
  },
  {
   "cell_type": "code",
   "execution_count": 23,
   "metadata": {},
   "outputs": [
    {
     "data": {
      "text/plain": [
       "<matplotlib.image.AxesImage at 0x21cd2299c10>"
      ]
     },
     "execution_count": 23,
     "metadata": {},
     "output_type": "execute_result"
    },
    {
     "data": {
      "image/png": "[encoded data removed]",
      "text/plain": [
       "<Figure size 432x288 with 1 Axes>"
      ]
     },
     "metadata": {
      "needs_background": "light"
     },
     "output_type": "display_data"
    }
   ],
   "source": [
    "plt.imshow(hn.forward_pass(noisy_data[0], iters=1).reshape(10, 10))"
   ]
  },
  {
   "cell_type": "code",
   "execution_count": null,
   "metadata": {},
   "outputs": [],
   "source": []
  }
 ],
 "metadata": {
  "kernelspec": {
   "display_name": "Python (en605645)",
   "language": "python",
   "name": "en605645"
  },
  "language_info": {
   "codemirror_mode": {
    "name": "ipython",
    "version": 3
   },
   "file_extension": ".py",
   "mimetype": "text/x-python",
   "name": "python",
   "nbconvert_exporter": "python",
   "pygments_lexer": "ipython3",
   "version": "3.9.7"
  },
  "orig_nbformat": 4
 },
 "nbformat": 4,
 "nbformat_minor": 2
}
